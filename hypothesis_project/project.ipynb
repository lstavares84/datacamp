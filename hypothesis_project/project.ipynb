# Hypothesis Testing with Men's and Women's Soccer Matches


import pandas as pd
from scipy.stats import mannwhitneyu # Didn't work with "from scipy.stats import ttest_ind"


men_data = pd.read_csv("men_results.csv")
women_data = pd.read_csv("women_results.csv")

start_date = "2002-01-01"
men_wc_data = men_data[(men_data['date'] >= start_date) & (men_data['tournament'] == 'FIFA World Cup')]
women_wc_data = women_data[(women_data['date'] >= start_date) & (women_data['tournament'] == 'FIFA World Cup')]

men_wc_data['total_goals'] = men_wc_data['home_score'] + men_wc_data['away_score']
women_wc_data['total_goals'] = women_wc_data['home_score'] + women_wc_data['away_score']

statistic, p_val = mannwhitneyu(men_wc_data['total_goals'], women_wc_data['total_goals'], alternative='less')

result_dict = {"p_val": p_val, "result": "reject" if p_val < 0.10 else "fail to reject"}

print(result_dict)
